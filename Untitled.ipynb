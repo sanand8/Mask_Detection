{
 "cells": [
  {
   "cell_type": "code",
   "execution_count": 1,
   "metadata": {},
   "outputs": [
    {
     "name": "stderr",
     "output_type": "stream",
     "text": [
      "Using TensorFlow backend.\n"
     ]
    }
   ],
   "source": [
    "import os\n",
    "from tensorflow.keras.preprocessing.image import load_img\n",
    "from tensorflow.keras.preprocessing.image import img_to_array\n",
    "from tensorflow.keras.applications.resnet50 import preprocess_input\n",
    "from sklearn.preprocessing import LabelBinarizer\n",
    "from keras.utils import to_categorical\n",
    "import numpy as np\n",
    "from sklearn.model_selection import train_test_split\n",
    "from tensorflow.keras.preprocessing.image import ImageDataGenerator\n",
    "from tensorflow.keras.applications import MobileNetV2\n",
    "from tensorflow.keras.layers import Input,AveragePooling2D,Flatten,Dense,Dropout\n",
    "from tensorflow.keras.models import Model\n",
    "from tensorflow.keras.optimizers import Adam\n",
    "from sklearn.metrics import classification_report\n",
    "import matplotlib.pyplot as plt\n"
   ]
  },
  {
   "cell_type": "code",
   "execution_count": 8,
   "metadata": {},
   "outputs": [
    {
     "name": "stdout",
     "output_type": "stream",
     "text": [
      "Loading the images...\n"
     ]
    },
    {
     "name": "stderr",
     "output_type": "stream",
     "text": [
      "c:\\python37\\lib\\site-packages\\PIL\\Image.py:961: UserWarning: Palette images with Transparency expressed in bytes should be converted to RGBA images\n",
      "  \"Palette images with Transparency expressed in bytes should be \"\n"
     ]
    }
   ],
   "source": [
    "\n",
    "#initial learning rate, number of epochs and batch size\n",
    "#lower learning rate will let you get the better accuracy soon\n",
    "init_lr = 1e-4\n",
    "epochs = 20\n",
    "batch_size = 32\n",
    "\n",
    "DIRECTORY = r\"C:\\Users\\devil\\Desktop\\Mask Detection\\dataset\"\n",
    "Categories = [\"with_mask\",\"without_mask\"]\n",
    "\n",
    "print(\"Loading the images...\")\n",
    "#data append all images as array \n",
    "data = []\n",
    "#labels will contain the image labels\n",
    "labels = []\n",
    "\n",
    "for category in Categories:\n",
    "    #it will join the directory\n",
    "    path = os.path.join(DIRECTORY, category)\n",
    "    #os.listdir will list the images in the directory\n",
    "    for img in os.listdir(path):\n",
    "        img_path = os.path.join(path,img)\n",
    "        image = load_img(img_path, target_size=(224, 224))\n",
    "        image = img_to_array(image)\n",
    "        image = preprocess_input(image)\n",
    "\n",
    "        data.append(image)\n",
    "        labels.append(category)\n"
   ]
  },
  {
   "cell_type": "code",
   "execution_count": 9,
   "metadata": {},
   "outputs": [],
   "source": [
    "lb = LabelBinarizer()\n",
    "labels = lb.fit_transform(labels)\n",
    "labels = to_categorical(labels)\n",
    "\n",
    "data = np.array(data, dtype=\"float32\")\n",
    "labels = np.array(labels)\n",
    "\n",
    "(trainX, testX, trainY, testY) = train_test_split(data, labels, test_size=0.20, stratify=labels, random_state=42)\n",
    "\n"
   ]
  },
  {
   "cell_type": "code",
   "execution_count": 4,
   "metadata": {},
   "outputs": [],
   "source": [
    "#Img data generator will generate many image from a single image\n",
    "aug = ImageDataGenerator(\n",
    "    rotation_range=20,\n",
    "    zoom_range=0.15,\n",
    "    width_shift_range=0.2,\n",
    "    height_shift_range=0.2,\n",
    "    shear_range=0.15,\n",
    "    horizontal_flip=True,\n",
    "    fill_mode=\"nearest\"\n",
    ")\n"
   ]
  },
  {
   "cell_type": "code",
   "execution_count": 10,
   "metadata": {},
   "outputs": [
    {
     "name": "stderr",
     "output_type": "stream",
     "text": [
      "c:\\python37\\lib\\site-packages\\keras_applications\\mobilenet_v2.py:294: UserWarning: `input_shape` is undefined or non-square, or `rows` is not in [96, 128, 160, 192, 224]. Weights for input shape (224, 224) will be loaded as the default.\n",
      "  warnings.warn('`input_shape` is undefined or non-square, '\n"
     ]
    }
   ],
   "source": [
    "baseModel = MobileNetV2(weights=\"imagenet\",include_top=False,\n",
    "input_tensor=Input(shape=(224, 224, 3)))\n",
    "\n",
    "#construct the head model that has to placed at the top\n",
    "headModel = baseModel.output\n",
    "headModel = AveragePooling2D(pool_size=(7,7))(headModel)\n",
    "headModel = Flatten(name=\"flatten\")(headModel)\n",
    "headModel = Dense(128, activation=\"relu\")(headModel)\n",
    "headModel = Dropout(0.5)(headModel)\n",
    "headModel = Dense(2, activation=\"softmax\")(headModel)\n",
    "\n",
    "#now place this on top of model\n",
    "model = Model(inputs=baseModel.input, outputs=headModel)\n",
    "\n",
    "#freeze all the layers in the base model \n",
    "for layer in baseModel.layers:\n",
    "    layer.trainable = False\n"
   ]
  },
  {
   "cell_type": "code",
   "execution_count": 11,
   "metadata": {},
   "outputs": [
    {
     "name": "stdout",
     "output_type": "stream",
     "text": [
      "Now compiling the model\n",
      "training the head of the network\n",
      "Train for 95 steps, validate on 767 samples\n",
      "Epoch 1/20\n",
      "95/95 [==============================] - 1167s 12s/step - loss: 0.5966 - accuracy: 0.7044 - val_loss: 1.0423 - val_accuracy: 0.5204\n",
      "Epoch 2/20\n",
      "95/95 [==============================] - 787s 8s/step - loss: 0.3064 - accuracy: 0.8718 - val_loss: 0.9435 - val_accuracy: 0.5530\n",
      "Epoch 3/20\n",
      "95/95 [==============================] - 677s 7s/step - loss: 0.2221 - accuracy: 0.9169 - val_loss: 1.3864 - val_accuracy: 0.5231\n",
      "Epoch 4/20\n",
      "95/95 [==============================] - 718s 8s/step - loss: 0.2002 - accuracy: 0.9242 - val_loss: 1.2919 - val_accuracy: 0.5353\n",
      "Epoch 5/20\n",
      "95/95 [==============================] - 748s 8s/step - loss: 0.1724 - accuracy: 0.9394 - val_loss: 0.8755 - val_accuracy: 0.6141\n",
      "Epoch 6/20\n",
      "95/95 [==============================] - 942s 10s/step - loss: 0.1576 - accuracy: 0.9380 - val_loss: 1.0812 - val_accuracy: 0.5774\n",
      "Epoch 7/20\n",
      "95/95 [==============================] - 1163s 12s/step - loss: 0.1435 - accuracy: 0.9456 - val_loss: 1.2533 - val_accuracy: 0.5476\n",
      "Epoch 8/20\n",
      "95/95 [==============================] - 1183s 12s/step - loss: 0.1376 - accuracy: 0.9506 - val_loss: 1.0850 - val_accuracy: 0.5938\n",
      "Epoch 9/20\n",
      "95/95 [==============================] - 1192s 13s/step - loss: 0.1326 - accuracy: 0.9529 - val_loss: 1.3740 - val_accuracy: 0.5462\n",
      "Epoch 10/20\n",
      "95/95 [==============================] - 1227s 13s/step - loss: 0.1222 - accuracy: 0.9588 - val_loss: 0.9630 - val_accuracy: 0.6196\n",
      "Epoch 11/20\n",
      "95/95 [==============================] - 824s 9s/step - loss: 0.1131 - accuracy: 0.9581 - val_loss: 1.0607 - val_accuracy: 0.5992\n",
      "Epoch 12/20\n",
      "95/95 [==============================] - 842s 9s/step - loss: 0.1121 - accuracy: 0.9572 - val_loss: 1.0690 - val_accuracy: 0.5992\n",
      "Epoch 13/20\n",
      "95/95 [==============================] - 829s 9s/step - loss: 0.1162 - accuracy: 0.9578 - val_loss: 1.0787 - val_accuracy: 0.6060\n",
      "Epoch 14/20\n",
      "95/95 [==============================] - 803s 8s/step - loss: 0.1131 - accuracy: 0.9581 - val_loss: 1.2727 - val_accuracy: 0.5802\n",
      "Epoch 15/20\n",
      "95/95 [==============================] - 845s 9s/step - loss: 0.1049 - accuracy: 0.9641 - val_loss: 1.0313 - val_accuracy: 0.6114\n",
      "Epoch 16/20\n",
      "95/95 [==============================] - 961s 10s/step - loss: 0.0959 - accuracy: 0.9641 - val_loss: 0.9854 - val_accuracy: 0.6291\n",
      "Epoch 17/20\n",
      "95/95 [==============================] - 1111s 12s/step - loss: 0.0994 - accuracy: 0.9634 - val_loss: 1.1794 - val_accuracy: 0.5938\n",
      "Epoch 18/20\n",
      "95/95 [==============================] - 1129s 12s/step - loss: 0.0920 - accuracy: 0.9667 - val_loss: 0.7652 - val_accuracy: 0.6889\n",
      "Epoch 19/20\n",
      "95/95 [==============================] - 20193s 213s/step - loss: 0.0883 - accuracy: 0.9657 - val_loss: 1.2628 - val_accuracy: 0.5870\n",
      "Epoch 20/20\n",
      "95/95 [==============================] - 1962s 21s/step - loss: 0.0815 - accuracy: 0.9734 - val_loss: 0.9216 - val_accuracy: 0.6535\n"
     ]
    }
   ],
   "source": [
    "#compile the model\n",
    "print(\"Now compiling the model\")\n",
    "opt = Adam(lr=init_lr,decay=init_lr / epochs)\n",
    "model.compile(loss=\"binary_crossentropy\", optimizer=opt, metrics=[\"accuracy\"])\n",
    "\n",
    "#train the head of the network\n",
    "print(\"training the head of the network\")\n",
    "H = model.fit(\n",
    "    aug.flow(trainX, trainY, batch_size=batch_size),\n",
    "    steps_per_epoch=len(trainX) // batch_size,\n",
    "    validation_data=(testX, testY),\n",
    "    validation_steps=len(testX) // batch_size,\n",
    "    epochs=epochs)\n",
    "\n"
   ]
  },
  {
   "cell_type": "code",
   "execution_count": 12,
   "metadata": {},
   "outputs": [
    {
     "name": "stdout",
     "output_type": "stream",
     "text": [
      "evaluating the network\n",
      "              precision    recall  f1-score   support\n",
      "\n",
      "   with_mask       0.89      0.36      0.51       383\n",
      "without_mask       0.60      0.96      0.74       384\n",
      "\n",
      "    accuracy                           0.66       767\n",
      "   macro avg       0.74      0.66      0.62       767\n",
      "weighted avg       0.74      0.66      0.63       767\n",
      "\n",
      "saving the mask detector in the model\n"
     ]
    }
   ],
   "source": [
    "\n",
    "#make prediction on the testing set\n",
    "print(\"evaluating the network\")\n",
    "pred = model.predict(testX, batch_size=batch_size)\n",
    "\n",
    "pred = np.argmax(pred, axis=1)\n",
    "\n",
    "#show a nicely formatted classification report\n",
    "print(classification_report(testY.argmax(axis=1), pred, target_names=lb.classes_))\n",
    "\n",
    "\n",
    "#serialize the model to disk\n",
    "print(\"saving the mask detector in the model\")\n",
    "model.save(\"mask_detector.model\", save_format=\"h5\")\n"
   ]
  },
  {
   "cell_type": "code",
   "execution_count": null,
   "metadata": {},
   "outputs": [],
   "source": []
  }
 ],
 "metadata": {
  "kernelspec": {
   "display_name": "Python 3",
   "language": "python",
   "name": "python3"
  },
  "language_info": {
   "codemirror_mode": {
    "name": "ipython",
    "version": 3
   },
   "file_extension": ".py",
   "mimetype": "text/x-python",
   "name": "python",
   "nbconvert_exporter": "python",
   "pygments_lexer": "ipython3",
   "version": "3.7.4"
  }
 },
 "nbformat": 4,
 "nbformat_minor": 4
}
